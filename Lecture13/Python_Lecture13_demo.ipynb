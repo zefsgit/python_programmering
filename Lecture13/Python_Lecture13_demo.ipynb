{
 "cells": [
  {
   "cell_type": "markdown",
   "id": "b4f1c4b3",
   "metadata": {},
   "source": [
    "## API"
   ]
  },
  {
   "cell_type": "code",
   "execution_count": 2,
   "id": "piano-finder",
   "metadata": {},
   "outputs": [],
   "source": [
    "import requests"
   ]
  },
  {
   "cell_type": "code",
   "execution_count": 3,
   "id": "valued-biography",
   "metadata": {},
   "outputs": [
    {
     "name": "stdout",
     "output_type": "stream",
     "text": [
      "\u001b[0;31mType:\u001b[0m        module\n",
      "\u001b[0;31mString form:\u001b[0m <module 'requests' from '/Users/evahegnar/opt/miniconda3/envs/ipynb_env/lib/python3.9/site-packages/requests/__init__.py'>\n",
      "\u001b[0;31mFile:\u001b[0m        ~/opt/miniconda3/envs/ipynb_env/lib/python3.9/site-packages/requests/__init__.py\n",
      "\u001b[0;31mDocstring:\u001b[0m  \n",
      "Requests HTTP Library\n",
      "~~~~~~~~~~~~~~~~~~~~~\n",
      "\n",
      "Requests is an HTTP library, written in Python, for human beings.\n",
      "Basic GET usage:\n",
      "\n",
      "   >>> import requests\n",
      "   >>> r = requests.get('https://www.python.org')\n",
      "   >>> r.status_code\n",
      "   200\n",
      "   >>> b'Python is a programming language' in r.content\n",
      "   True\n",
      "\n",
      "... or POST:\n",
      "\n",
      "   >>> payload = dict(key1='value1', key2='value2')\n",
      "   >>> r = requests.post('https://httpbin.org/post', data=payload)\n",
      "   >>> print(r.text)\n",
      "   {\n",
      "     ...\n",
      "     \"form\": {\n",
      "       \"key1\": \"value1\",\n",
      "       \"key2\": \"value2\"\n",
      "     },\n",
      "     ...\n",
      "   }\n",
      "\n",
      "The other HTTP methods are supported - see `requests.api`. Full documentation\n",
      "is at <https://requests.readthedocs.io>.\n",
      "\n",
      ":copyright: (c) 2017 by Kenneth Reitz.\n",
      ":license: Apache 2.0, see LICENSE for more details.\n"
     ]
    }
   ],
   "source": [
    "requests?"
   ]
  },
  {
   "cell_type": "code",
   "execution_count": 4,
   "id": "flush-munich",
   "metadata": {},
   "outputs": [],
   "source": [
    "# Make sure the app is running in a terminal. \n",
    "# The app i created in app.py\n",
    "# Start the app with writing i terminal (same folder as the code): python app.py \n",
    "# (Alternatively: python3 app.py)"
   ]
  },
  {
   "cell_type": "code",
   "execution_count": 12,
   "id": "b4724ee1",
   "metadata": {},
   "outputs": [],
   "source": [
    "app = 'http://localhost:8080'\n",
    "endpoint = app + '/users'"
   ]
  },
  {
   "cell_type": "markdown",
   "id": "intended-pottery",
   "metadata": {},
   "source": [
    "## Requests with python\n",
    "\n",
    "- Look at all of the methods: get, post, put and delete\n",
    "- Look at the response object\n",
    "    - Get status code\n",
    "    - Get the data from the response object\n",
    "    \n"
   ]
  },
  {
   "cell_type": "markdown",
   "id": "polar-gabriel",
   "metadata": {},
   "source": [
    "### Get"
   ]
  },
  {
   "cell_type": "code",
   "execution_count": 15,
   "id": "confident-claim",
   "metadata": {},
   "outputs": [],
   "source": [
    "r = requests.get(url='http://www.google.com')"
   ]
  },
  {
   "cell_type": "code",
   "execution_count": 16,
   "metadata": {},
   "outputs": [
    {
     "name": "stdout",
     "output_type": "stream",
     "text": [
      "<Response [200]>\n"
     ]
    },
    {
     "data": {
      "text/plain": [
       "200"
      ]
     },
     "execution_count": 16,
     "metadata": {},
     "output_type": "execute_result"
    }
   ],
   "source": [
    "print(r)\n",
    "r.status_code\n",
    "# Status code 200 is The request succeeded"
   ]
  },
  {
   "cell_type": "code",
   "execution_count": 18,
   "id": "macro-bachelor",
   "metadata": {},
   "outputs": [
    {
     "data": {
      "text/plain": [
       "{'123456789': 'Alex', '789123456': 'Isabella', '321456978': 'Filip'}"
      ]
     },
     "execution_count": 18,
     "metadata": {},
     "output_type": "execute_result"
    }
   ],
   "source": [
    "r = requests.get(url=endpoint)\n",
    "r.json()\n"
   ]
  },
  {
   "cell_type": "markdown",
   "id": "limiting-reviewer",
   "metadata": {},
   "source": [
    "### POST\n",
    "\n",
    "- Wecan send new data"
   ]
  },
  {
   "cell_type": "code",
   "execution_count": 35,
   "id": "quiet-marker",
   "metadata": {},
   "outputs": [
    {
     "data": {
      "text/plain": [
       "200"
      ]
     },
     "execution_count": 35,
     "metadata": {},
     "output_type": "execute_result"
    }
   ],
   "source": [
    "new_user = {'user_id': '79812398127',\n",
    "            'name':'Melina'}\n",
    "\n",
    "\n",
    "r = requests.post(url=endpoint, json=new_user)\n",
    "r.status_code"
   ]
  },
  {
   "cell_type": "markdown",
   "id": "eligible-future",
   "metadata": {},
   "source": [
    "### PUT\n",
    "\n",
    "- This method is used to update an existing user"
   ]
  },
  {
   "cell_type": "code",
   "execution_count": 37,
   "id": "threaded-oakland",
   "metadata": {},
   "outputs": [
    {
     "data": {
      "text/plain": [
       "<Response [200]>"
      ]
     },
     "execution_count": 37,
     "metadata": {},
     "output_type": "execute_result"
    }
   ],
   "source": [
    "update_data = {'user_id': '789123456', 'name': 'Kungen'}\n",
    "r = requests.put(url=endpoint, json=update_data)\n",
    "r"
   ]
  },
  {
   "cell_type": "code",
   "execution_count": null,
   "id": "1ff8ca2e",
   "metadata": {},
   "outputs": [],
   "source": [
    "# See latest changes by using a get\n",
    "r = requests.get(url=endpoint)\n",
    "r.json()"
   ]
  },
  {
   "cell_type": "markdown",
   "id": "funded-omaha",
   "metadata": {},
   "source": [
    "### DELETE"
   ]
  },
  {
   "cell_type": "code",
   "execution_count": 39,
   "id": "variable-czech",
   "metadata": {},
   "outputs": [
    {
     "data": {
      "text/plain": [
       "<Response [200]>"
      ]
     },
     "execution_count": 39,
     "metadata": {},
     "output_type": "execute_result"
    }
   ],
   "source": [
    "# Note delete only needs user_id\n",
    "data = {'user_id':'123456789'}\n",
    "requests.delete(url=endpoint, params=data)"
   ]
  },
  {
   "cell_type": "code",
   "execution_count": 38,
   "id": "6e60449e",
   "metadata": {},
   "outputs": [
    {
     "data": {
      "text/plain": [
       "{'789123456': 'Kungen', '321456978': 'Filip', '79812398127': 'Melina'}"
      ]
     },
     "execution_count": 38,
     "metadata": {},
     "output_type": "execute_result"
    }
   ],
   "source": [
    "r = requests.get(url=endpoint)\n",
    "r.json()"
   ]
  },
  {
   "cell_type": "code",
   "execution_count": null,
   "id": "7cc0b951",
   "metadata": {},
   "outputs": [],
   "source": [
    "# To finish the app in the terminal press: \n",
    "# ctrl + C\n",
    "# For mac: control + C"
   ]
  },
  {
   "cell_type": "markdown",
   "id": "simplified-elephant",
   "metadata": {},
   "source": [
    "## Real data \n",
    "\n",
    "Now we will try to get real data a public data API"
   ]
  },
  {
   "cell_type": "code",
   "execution_count": 32,
   "id": "white-aruba",
   "metadata": {},
   "outputs": [
    {
     "data": {
      "text/plain": [
       "200"
      ]
     },
     "execution_count": 32,
     "metadata": {},
     "output_type": "execute_result"
    }
   ],
   "source": [
    "r = requests.get('https://pokeapi.co/api/v2/pokemon/')\n",
    "r.status_code"
   ]
  },
  {
   "cell_type": "code",
   "execution_count": 33,
   "id": "handy-robinson",
   "metadata": {},
   "outputs": [
    {
     "data": {
      "text/plain": [
       "dict"
      ]
     },
     "execution_count": 33,
     "metadata": {},
     "output_type": "execute_result"
    }
   ],
   "source": [
    "data = r.json()\n",
    "type(data)"
   ]
  },
  {
   "cell_type": "code",
   "execution_count": 34,
   "id": "local-spiritual",
   "metadata": {},
   "outputs": [
    {
     "data": {
      "text/plain": [
       "{'count': 1118,\n",
       " 'next': 'https://pokeapi.co/api/v2/pokemon/?offset=20&limit=20',\n",
       " 'previous': None,\n",
       " 'results': [{'name': 'bulbasaur',\n",
       "   'url': 'https://pokeapi.co/api/v2/pokemon/1/'},\n",
       "  {'name': 'ivysaur', 'url': 'https://pokeapi.co/api/v2/pokemon/2/'},\n",
       "  {'name': 'venusaur', 'url': 'https://pokeapi.co/api/v2/pokemon/3/'},\n",
       "  {'name': 'charmander', 'url': 'https://pokeapi.co/api/v2/pokemon/4/'},\n",
       "  {'name': 'charmeleon', 'url': 'https://pokeapi.co/api/v2/pokemon/5/'},\n",
       "  {'name': 'charizard', 'url': 'https://pokeapi.co/api/v2/pokemon/6/'},\n",
       "  {'name': 'squirtle', 'url': 'https://pokeapi.co/api/v2/pokemon/7/'},\n",
       "  {'name': 'wartortle', 'url': 'https://pokeapi.co/api/v2/pokemon/8/'},\n",
       "  {'name': 'blastoise', 'url': 'https://pokeapi.co/api/v2/pokemon/9/'},\n",
       "  {'name': 'caterpie', 'url': 'https://pokeapi.co/api/v2/pokemon/10/'},\n",
       "  {'name': 'metapod', 'url': 'https://pokeapi.co/api/v2/pokemon/11/'},\n",
       "  {'name': 'butterfree', 'url': 'https://pokeapi.co/api/v2/pokemon/12/'},\n",
       "  {'name': 'weedle', 'url': 'https://pokeapi.co/api/v2/pokemon/13/'},\n",
       "  {'name': 'kakuna', 'url': 'https://pokeapi.co/api/v2/pokemon/14/'},\n",
       "  {'name': 'beedrill', 'url': 'https://pokeapi.co/api/v2/pokemon/15/'},\n",
       "  {'name': 'pidgey', 'url': 'https://pokeapi.co/api/v2/pokemon/16/'},\n",
       "  {'name': 'pidgeotto', 'url': 'https://pokeapi.co/api/v2/pokemon/17/'},\n",
       "  {'name': 'pidgeot', 'url': 'https://pokeapi.co/api/v2/pokemon/18/'},\n",
       "  {'name': 'rattata', 'url': 'https://pokeapi.co/api/v2/pokemon/19/'},\n",
       "  {'name': 'raticate', 'url': 'https://pokeapi.co/api/v2/pokemon/20/'}]}"
      ]
     },
     "execution_count": 34,
     "metadata": {},
     "output_type": "execute_result"
    }
   ],
   "source": [
    "data"
   ]
  },
  {
   "cell_type": "code",
   "execution_count": 45,
   "id": "74c31200",
   "metadata": {},
   "outputs": [
    {
     "data": {
      "text/plain": [
       "{'abilities': [],\n",
       " 'id': 2,\n",
       " 'main_region': {'name': 'johto',\n",
       "  'url': 'https://pokeapi.co/api/v2/region/2/'},\n",
       " 'moves': [{'name': 'sketch', 'url': 'https://pokeapi.co/api/v2/move/166/'},\n",
       "  {'name': 'triple-kick', 'url': 'https://pokeapi.co/api/v2/move/167/'},\n",
       "  {'name': 'thief', 'url': 'https://pokeapi.co/api/v2/move/168/'},\n",
       "  {'name': 'spider-web', 'url': 'https://pokeapi.co/api/v2/move/169/'},\n",
       "  {'name': 'mind-reader', 'url': 'https://pokeapi.co/api/v2/move/170/'},\n",
       "  {'name': 'nightmare', 'url': 'https://pokeapi.co/api/v2/move/171/'},\n",
       "  {'name': 'flame-wheel', 'url': 'https://pokeapi.co/api/v2/move/172/'},\n",
       "  {'name': 'snore', 'url': 'https://pokeapi.co/api/v2/move/173/'},\n",
       "  {'name': 'curse', 'url': 'https://pokeapi.co/api/v2/move/174/'},\n",
       "  {'name': 'flail', 'url': 'https://pokeapi.co/api/v2/move/175/'},\n",
       "  {'name': 'conversion-2', 'url': 'https://pokeapi.co/api/v2/move/176/'},\n",
       "  {'name': 'aeroblast', 'url': 'https://pokeapi.co/api/v2/move/177/'},\n",
       "  {'name': 'cotton-spore', 'url': 'https://pokeapi.co/api/v2/move/178/'},\n",
       "  {'name': 'reversal', 'url': 'https://pokeapi.co/api/v2/move/179/'},\n",
       "  {'name': 'spite', 'url': 'https://pokeapi.co/api/v2/move/180/'},\n",
       "  {'name': 'powder-snow', 'url': 'https://pokeapi.co/api/v2/move/181/'},\n",
       "  {'name': 'protect', 'url': 'https://pokeapi.co/api/v2/move/182/'},\n",
       "  {'name': 'mach-punch', 'url': 'https://pokeapi.co/api/v2/move/183/'},\n",
       "  {'name': 'scary-face', 'url': 'https://pokeapi.co/api/v2/move/184/'},\n",
       "  {'name': 'feint-attack', 'url': 'https://pokeapi.co/api/v2/move/185/'},\n",
       "  {'name': 'sweet-kiss', 'url': 'https://pokeapi.co/api/v2/move/186/'},\n",
       "  {'name': 'belly-drum', 'url': 'https://pokeapi.co/api/v2/move/187/'},\n",
       "  {'name': 'sludge-bomb', 'url': 'https://pokeapi.co/api/v2/move/188/'},\n",
       "  {'name': 'mud-slap', 'url': 'https://pokeapi.co/api/v2/move/189/'},\n",
       "  {'name': 'octazooka', 'url': 'https://pokeapi.co/api/v2/move/190/'},\n",
       "  {'name': 'spikes', 'url': 'https://pokeapi.co/api/v2/move/191/'},\n",
       "  {'name': 'zap-cannon', 'url': 'https://pokeapi.co/api/v2/move/192/'},\n",
       "  {'name': 'foresight', 'url': 'https://pokeapi.co/api/v2/move/193/'},\n",
       "  {'name': 'destiny-bond', 'url': 'https://pokeapi.co/api/v2/move/194/'},\n",
       "  {'name': 'perish-song', 'url': 'https://pokeapi.co/api/v2/move/195/'},\n",
       "  {'name': 'icy-wind', 'url': 'https://pokeapi.co/api/v2/move/196/'},\n",
       "  {'name': 'detect', 'url': 'https://pokeapi.co/api/v2/move/197/'},\n",
       "  {'name': 'bone-rush', 'url': 'https://pokeapi.co/api/v2/move/198/'},\n",
       "  {'name': 'lock-on', 'url': 'https://pokeapi.co/api/v2/move/199/'},\n",
       "  {'name': 'outrage', 'url': 'https://pokeapi.co/api/v2/move/200/'},\n",
       "  {'name': 'sandstorm', 'url': 'https://pokeapi.co/api/v2/move/201/'},\n",
       "  {'name': 'giga-drain', 'url': 'https://pokeapi.co/api/v2/move/202/'},\n",
       "  {'name': 'endure', 'url': 'https://pokeapi.co/api/v2/move/203/'},\n",
       "  {'name': 'charm', 'url': 'https://pokeapi.co/api/v2/move/204/'},\n",
       "  {'name': 'rollout', 'url': 'https://pokeapi.co/api/v2/move/205/'},\n",
       "  {'name': 'false-swipe', 'url': 'https://pokeapi.co/api/v2/move/206/'},\n",
       "  {'name': 'swagger', 'url': 'https://pokeapi.co/api/v2/move/207/'},\n",
       "  {'name': 'milk-drink', 'url': 'https://pokeapi.co/api/v2/move/208/'},\n",
       "  {'name': 'spark', 'url': 'https://pokeapi.co/api/v2/move/209/'},\n",
       "  {'name': 'fury-cutter', 'url': 'https://pokeapi.co/api/v2/move/210/'},\n",
       "  {'name': 'steel-wing', 'url': 'https://pokeapi.co/api/v2/move/211/'},\n",
       "  {'name': 'mean-look', 'url': 'https://pokeapi.co/api/v2/move/212/'},\n",
       "  {'name': 'attract', 'url': 'https://pokeapi.co/api/v2/move/213/'},\n",
       "  {'name': 'sleep-talk', 'url': 'https://pokeapi.co/api/v2/move/214/'},\n",
       "  {'name': 'heal-bell', 'url': 'https://pokeapi.co/api/v2/move/215/'},\n",
       "  {'name': 'return', 'url': 'https://pokeapi.co/api/v2/move/216/'},\n",
       "  {'name': 'present', 'url': 'https://pokeapi.co/api/v2/move/217/'},\n",
       "  {'name': 'frustration', 'url': 'https://pokeapi.co/api/v2/move/218/'},\n",
       "  {'name': 'safeguard', 'url': 'https://pokeapi.co/api/v2/move/219/'},\n",
       "  {'name': 'pain-split', 'url': 'https://pokeapi.co/api/v2/move/220/'},\n",
       "  {'name': 'sacred-fire', 'url': 'https://pokeapi.co/api/v2/move/221/'},\n",
       "  {'name': 'magnitude', 'url': 'https://pokeapi.co/api/v2/move/222/'},\n",
       "  {'name': 'dynamic-punch', 'url': 'https://pokeapi.co/api/v2/move/223/'},\n",
       "  {'name': 'megahorn', 'url': 'https://pokeapi.co/api/v2/move/224/'},\n",
       "  {'name': 'dragon-breath', 'url': 'https://pokeapi.co/api/v2/move/225/'},\n",
       "  {'name': 'baton-pass', 'url': 'https://pokeapi.co/api/v2/move/226/'},\n",
       "  {'name': 'encore', 'url': 'https://pokeapi.co/api/v2/move/227/'},\n",
       "  {'name': 'pursuit', 'url': 'https://pokeapi.co/api/v2/move/228/'},\n",
       "  {'name': 'rapid-spin', 'url': 'https://pokeapi.co/api/v2/move/229/'},\n",
       "  {'name': 'sweet-scent', 'url': 'https://pokeapi.co/api/v2/move/230/'},\n",
       "  {'name': 'iron-tail', 'url': 'https://pokeapi.co/api/v2/move/231/'},\n",
       "  {'name': 'metal-claw', 'url': 'https://pokeapi.co/api/v2/move/232/'},\n",
       "  {'name': 'vital-throw', 'url': 'https://pokeapi.co/api/v2/move/233/'},\n",
       "  {'name': 'morning-sun', 'url': 'https://pokeapi.co/api/v2/move/234/'},\n",
       "  {'name': 'synthesis', 'url': 'https://pokeapi.co/api/v2/move/235/'},\n",
       "  {'name': 'moonlight', 'url': 'https://pokeapi.co/api/v2/move/236/'},\n",
       "  {'name': 'hidden-power', 'url': 'https://pokeapi.co/api/v2/move/237/'},\n",
       "  {'name': 'cross-chop', 'url': 'https://pokeapi.co/api/v2/move/238/'},\n",
       "  {'name': 'twister', 'url': 'https://pokeapi.co/api/v2/move/239/'},\n",
       "  {'name': 'rain-dance', 'url': 'https://pokeapi.co/api/v2/move/240/'},\n",
       "  {'name': 'sunny-day', 'url': 'https://pokeapi.co/api/v2/move/241/'},\n",
       "  {'name': 'crunch', 'url': 'https://pokeapi.co/api/v2/move/242/'},\n",
       "  {'name': 'mirror-coat', 'url': 'https://pokeapi.co/api/v2/move/243/'},\n",
       "  {'name': 'psych-up', 'url': 'https://pokeapi.co/api/v2/move/244/'},\n",
       "  {'name': 'extreme-speed', 'url': 'https://pokeapi.co/api/v2/move/245/'},\n",
       "  {'name': 'ancient-power', 'url': 'https://pokeapi.co/api/v2/move/246/'},\n",
       "  {'name': 'shadow-ball', 'url': 'https://pokeapi.co/api/v2/move/247/'},\n",
       "  {'name': 'future-sight', 'url': 'https://pokeapi.co/api/v2/move/248/'},\n",
       "  {'name': 'rock-smash', 'url': 'https://pokeapi.co/api/v2/move/249/'},\n",
       "  {'name': 'whirlpool', 'url': 'https://pokeapi.co/api/v2/move/250/'},\n",
       "  {'name': 'beat-up', 'url': 'https://pokeapi.co/api/v2/move/251/'}],\n",
       " 'name': 'generation-ii',\n",
       " 'names': [{'language': {'name': 'ja-Hrkt',\n",
       "    'url': 'https://pokeapi.co/api/v2/language/1/'},\n",
       "   'name': 'だいにせだい'},\n",
       "  {'language': {'name': 'ko', 'url': 'https://pokeapi.co/api/v2/language/3/'},\n",
       "   'name': '2세대'},\n",
       "  {'language': {'name': 'fr', 'url': 'https://pokeapi.co/api/v2/language/5/'},\n",
       "   'name': 'Génération II'},\n",
       "  {'language': {'name': 'de', 'url': 'https://pokeapi.co/api/v2/language/6/'},\n",
       "   'name': 'Generation II'},\n",
       "  {'language': {'name': 'es', 'url': 'https://pokeapi.co/api/v2/language/7/'},\n",
       "   'name': 'Generación II'},\n",
       "  {'language': {'name': 'en', 'url': 'https://pokeapi.co/api/v2/language/9/'},\n",
       "   'name': 'Generation II'},\n",
       "  {'language': {'name': 'ja', 'url': 'https://pokeapi.co/api/v2/language/11/'},\n",
       "   'name': '第二世代'}],\n",
       " 'pokemon_species': [{'name': 'chikorita',\n",
       "   'url': 'https://pokeapi.co/api/v2/pokemon-species/152/'},\n",
       "  {'name': 'cyndaquil',\n",
       "   'url': 'https://pokeapi.co/api/v2/pokemon-species/155/'},\n",
       "  {'name': 'totodile',\n",
       "   'url': 'https://pokeapi.co/api/v2/pokemon-species/158/'},\n",
       "  {'name': 'sentret', 'url': 'https://pokeapi.co/api/v2/pokemon-species/161/'},\n",
       "  {'name': 'hoothoot',\n",
       "   'url': 'https://pokeapi.co/api/v2/pokemon-species/163/'},\n",
       "  {'name': 'ledyba', 'url': 'https://pokeapi.co/api/v2/pokemon-species/165/'},\n",
       "  {'name': 'spinarak',\n",
       "   'url': 'https://pokeapi.co/api/v2/pokemon-species/167/'},\n",
       "  {'name': 'chinchou',\n",
       "   'url': 'https://pokeapi.co/api/v2/pokemon-species/170/'},\n",
       "  {'name': 'pichu', 'url': 'https://pokeapi.co/api/v2/pokemon-species/172/'},\n",
       "  {'name': 'cleffa', 'url': 'https://pokeapi.co/api/v2/pokemon-species/173/'},\n",
       "  {'name': 'igglybuff',\n",
       "   'url': 'https://pokeapi.co/api/v2/pokemon-species/174/'},\n",
       "  {'name': 'togepi', 'url': 'https://pokeapi.co/api/v2/pokemon-species/175/'},\n",
       "  {'name': 'natu', 'url': 'https://pokeapi.co/api/v2/pokemon-species/177/'},\n",
       "  {'name': 'mareep', 'url': 'https://pokeapi.co/api/v2/pokemon-species/179/'},\n",
       "  {'name': 'hoppip', 'url': 'https://pokeapi.co/api/v2/pokemon-species/187/'},\n",
       "  {'name': 'aipom', 'url': 'https://pokeapi.co/api/v2/pokemon-species/190/'},\n",
       "  {'name': 'sunkern', 'url': 'https://pokeapi.co/api/v2/pokemon-species/191/'},\n",
       "  {'name': 'yanma', 'url': 'https://pokeapi.co/api/v2/pokemon-species/193/'},\n",
       "  {'name': 'wooper', 'url': 'https://pokeapi.co/api/v2/pokemon-species/194/'},\n",
       "  {'name': 'murkrow', 'url': 'https://pokeapi.co/api/v2/pokemon-species/198/'},\n",
       "  {'name': 'misdreavus',\n",
       "   'url': 'https://pokeapi.co/api/v2/pokemon-species/200/'},\n",
       "  {'name': 'unown', 'url': 'https://pokeapi.co/api/v2/pokemon-species/201/'},\n",
       "  {'name': 'girafarig',\n",
       "   'url': 'https://pokeapi.co/api/v2/pokemon-species/203/'},\n",
       "  {'name': 'pineco', 'url': 'https://pokeapi.co/api/v2/pokemon-species/204/'},\n",
       "  {'name': 'dunsparce',\n",
       "   'url': 'https://pokeapi.co/api/v2/pokemon-species/206/'},\n",
       "  {'name': 'gligar', 'url': 'https://pokeapi.co/api/v2/pokemon-species/207/'},\n",
       "  {'name': 'snubbull',\n",
       "   'url': 'https://pokeapi.co/api/v2/pokemon-species/209/'},\n",
       "  {'name': 'qwilfish',\n",
       "   'url': 'https://pokeapi.co/api/v2/pokemon-species/211/'},\n",
       "  {'name': 'shuckle', 'url': 'https://pokeapi.co/api/v2/pokemon-species/213/'},\n",
       "  {'name': 'heracross',\n",
       "   'url': 'https://pokeapi.co/api/v2/pokemon-species/214/'},\n",
       "  {'name': 'sneasel', 'url': 'https://pokeapi.co/api/v2/pokemon-species/215/'},\n",
       "  {'name': 'teddiursa',\n",
       "   'url': 'https://pokeapi.co/api/v2/pokemon-species/216/'},\n",
       "  {'name': 'slugma', 'url': 'https://pokeapi.co/api/v2/pokemon-species/218/'},\n",
       "  {'name': 'swinub', 'url': 'https://pokeapi.co/api/v2/pokemon-species/220/'},\n",
       "  {'name': 'corsola', 'url': 'https://pokeapi.co/api/v2/pokemon-species/222/'},\n",
       "  {'name': 'remoraid',\n",
       "   'url': 'https://pokeapi.co/api/v2/pokemon-species/223/'},\n",
       "  {'name': 'delibird',\n",
       "   'url': 'https://pokeapi.co/api/v2/pokemon-species/225/'},\n",
       "  {'name': 'meganium',\n",
       "   'url': 'https://pokeapi.co/api/v2/pokemon-species/154/'},\n",
       "  {'name': 'quilava', 'url': 'https://pokeapi.co/api/v2/pokemon-species/156/'},\n",
       "  {'name': 'typhlosion',\n",
       "   'url': 'https://pokeapi.co/api/v2/pokemon-species/157/'},\n",
       "  {'name': 'croconaw',\n",
       "   'url': 'https://pokeapi.co/api/v2/pokemon-species/159/'},\n",
       "  {'name': 'feraligatr',\n",
       "   'url': 'https://pokeapi.co/api/v2/pokemon-species/160/'},\n",
       "  {'name': 'furret', 'url': 'https://pokeapi.co/api/v2/pokemon-species/162/'},\n",
       "  {'name': 'noctowl', 'url': 'https://pokeapi.co/api/v2/pokemon-species/164/'},\n",
       "  {'name': 'ledian', 'url': 'https://pokeapi.co/api/v2/pokemon-species/166/'},\n",
       "  {'name': 'ariados', 'url': 'https://pokeapi.co/api/v2/pokemon-species/168/'},\n",
       "  {'name': 'crobat', 'url': 'https://pokeapi.co/api/v2/pokemon-species/169/'},\n",
       "  {'name': 'lanturn', 'url': 'https://pokeapi.co/api/v2/pokemon-species/171/'},\n",
       "  {'name': 'togetic', 'url': 'https://pokeapi.co/api/v2/pokemon-species/176/'},\n",
       "  {'name': 'xatu', 'url': 'https://pokeapi.co/api/v2/pokemon-species/178/'},\n",
       "  {'name': 'flaaffy', 'url': 'https://pokeapi.co/api/v2/pokemon-species/180/'},\n",
       "  {'name': 'ampharos',\n",
       "   'url': 'https://pokeapi.co/api/v2/pokemon-species/181/'},\n",
       "  {'name': 'bellossom',\n",
       "   'url': 'https://pokeapi.co/api/v2/pokemon-species/182/'},\n",
       "  {'name': 'marill', 'url': 'https://pokeapi.co/api/v2/pokemon-species/183/'},\n",
       "  {'name': 'azumarill',\n",
       "   'url': 'https://pokeapi.co/api/v2/pokemon-species/184/'},\n",
       "  {'name': 'sudowoodo',\n",
       "   'url': 'https://pokeapi.co/api/v2/pokemon-species/185/'},\n",
       "  {'name': 'politoed',\n",
       "   'url': 'https://pokeapi.co/api/v2/pokemon-species/186/'},\n",
       "  {'name': 'skiploom',\n",
       "   'url': 'https://pokeapi.co/api/v2/pokemon-species/188/'},\n",
       "  {'name': 'jumpluff',\n",
       "   'url': 'https://pokeapi.co/api/v2/pokemon-species/189/'},\n",
       "  {'name': 'sunflora',\n",
       "   'url': 'https://pokeapi.co/api/v2/pokemon-species/192/'},\n",
       "  {'name': 'quagsire',\n",
       "   'url': 'https://pokeapi.co/api/v2/pokemon-species/195/'},\n",
       "  {'name': 'espeon', 'url': 'https://pokeapi.co/api/v2/pokemon-species/196/'},\n",
       "  {'name': 'umbreon', 'url': 'https://pokeapi.co/api/v2/pokemon-species/197/'},\n",
       "  {'name': 'slowking',\n",
       "   'url': 'https://pokeapi.co/api/v2/pokemon-species/199/'},\n",
       "  {'name': 'wobbuffet',\n",
       "   'url': 'https://pokeapi.co/api/v2/pokemon-species/202/'},\n",
       "  {'name': 'forretress',\n",
       "   'url': 'https://pokeapi.co/api/v2/pokemon-species/205/'},\n",
       "  {'name': 'steelix', 'url': 'https://pokeapi.co/api/v2/pokemon-species/208/'},\n",
       "  {'name': 'granbull',\n",
       "   'url': 'https://pokeapi.co/api/v2/pokemon-species/210/'},\n",
       "  {'name': 'scizor', 'url': 'https://pokeapi.co/api/v2/pokemon-species/212/'},\n",
       "  {'name': 'ursaring',\n",
       "   'url': 'https://pokeapi.co/api/v2/pokemon-species/217/'},\n",
       "  {'name': 'magcargo',\n",
       "   'url': 'https://pokeapi.co/api/v2/pokemon-species/219/'},\n",
       "  {'name': 'piloswine',\n",
       "   'url': 'https://pokeapi.co/api/v2/pokemon-species/221/'},\n",
       "  {'name': 'octillery',\n",
       "   'url': 'https://pokeapi.co/api/v2/pokemon-species/224/'},\n",
       "  {'name': 'skarmory',\n",
       "   'url': 'https://pokeapi.co/api/v2/pokemon-species/227/'},\n",
       "  {'name': 'houndour',\n",
       "   'url': 'https://pokeapi.co/api/v2/pokemon-species/228/'},\n",
       "  {'name': 'phanpy', 'url': 'https://pokeapi.co/api/v2/pokemon-species/231/'},\n",
       "  {'name': 'stantler',\n",
       "   'url': 'https://pokeapi.co/api/v2/pokemon-species/234/'},\n",
       "  {'name': 'smeargle',\n",
       "   'url': 'https://pokeapi.co/api/v2/pokemon-species/235/'},\n",
       "  {'name': 'tyrogue', 'url': 'https://pokeapi.co/api/v2/pokemon-species/236/'},\n",
       "  {'name': 'smoochum',\n",
       "   'url': 'https://pokeapi.co/api/v2/pokemon-species/238/'},\n",
       "  {'name': 'elekid', 'url': 'https://pokeapi.co/api/v2/pokemon-species/239/'},\n",
       "  {'name': 'magby', 'url': 'https://pokeapi.co/api/v2/pokemon-species/240/'},\n",
       "  {'name': 'miltank', 'url': 'https://pokeapi.co/api/v2/pokemon-species/241/'},\n",
       "  {'name': 'raikou', 'url': 'https://pokeapi.co/api/v2/pokemon-species/243/'},\n",
       "  {'name': 'entei', 'url': 'https://pokeapi.co/api/v2/pokemon-species/244/'},\n",
       "  {'name': 'suicune', 'url': 'https://pokeapi.co/api/v2/pokemon-species/245/'},\n",
       "  {'name': 'larvitar',\n",
       "   'url': 'https://pokeapi.co/api/v2/pokemon-species/246/'},\n",
       "  {'name': 'lugia', 'url': 'https://pokeapi.co/api/v2/pokemon-species/249/'},\n",
       "  {'name': 'ho-oh', 'url': 'https://pokeapi.co/api/v2/pokemon-species/250/'},\n",
       "  {'name': 'celebi', 'url': 'https://pokeapi.co/api/v2/pokemon-species/251/'},\n",
       "  {'name': 'houndoom',\n",
       "   'url': 'https://pokeapi.co/api/v2/pokemon-species/229/'},\n",
       "  {'name': 'kingdra', 'url': 'https://pokeapi.co/api/v2/pokemon-species/230/'},\n",
       "  {'name': 'donphan', 'url': 'https://pokeapi.co/api/v2/pokemon-species/232/'},\n",
       "  {'name': 'porygon2',\n",
       "   'url': 'https://pokeapi.co/api/v2/pokemon-species/233/'},\n",
       "  {'name': 'hitmontop',\n",
       "   'url': 'https://pokeapi.co/api/v2/pokemon-species/237/'},\n",
       "  {'name': 'blissey', 'url': 'https://pokeapi.co/api/v2/pokemon-species/242/'},\n",
       "  {'name': 'pupitar', 'url': 'https://pokeapi.co/api/v2/pokemon-species/247/'},\n",
       "  {'name': 'tyranitar',\n",
       "   'url': 'https://pokeapi.co/api/v2/pokemon-species/248/'},\n",
       "  {'name': 'bayleef', 'url': 'https://pokeapi.co/api/v2/pokemon-species/153/'},\n",
       "  {'name': 'mantine',\n",
       "   'url': 'https://pokeapi.co/api/v2/pokemon-species/226/'}],\n",
       " 'types': [{'name': 'steel', 'url': 'https://pokeapi.co/api/v2/type/9/'},\n",
       "  {'name': 'dark', 'url': 'https://pokeapi.co/api/v2/type/17/'},\n",
       "  {'name': 'unknown', 'url': 'https://pokeapi.co/api/v2/type/10001/'}],\n",
       " 'version_groups': [{'name': 'gold-silver',\n",
       "   'url': 'https://pokeapi.co/api/v2/version-group/3/'},\n",
       "  {'name': 'crystal', 'url': 'https://pokeapi.co/api/v2/version-group/4/'}]}"
      ]
     },
     "execution_count": 45,
     "metadata": {},
     "output_type": "execute_result"
    }
   ],
   "source": [
    "# Calling API and extract data\n",
    "# Want the generation 2 data\n",
    "api_call = \"https://pokeapi.co/api/v2/generation/generation-ii\"\n",
    "r = requests.get(api_call)\n",
    "data = r.json()\n",
    "data"
   ]
  },
  {
   "cell_type": "code",
   "execution_count": 48,
   "id": "4bf5ee12",
   "metadata": {},
   "outputs": [
    {
     "name": "stdout",
     "output_type": "stream",
     "text": [
      "[{'name': 'chikorita', 'url': 'https://pokeapi.co/api/v2/pokemon-species/152/'}, {'name': 'cyndaquil', 'url': 'https://pokeapi.co/api/v2/pokemon-species/155/'}, {'name': 'totodile', 'url': 'https://pokeapi.co/api/v2/pokemon-species/158/'}, {'name': 'sentret', 'url': 'https://pokeapi.co/api/v2/pokemon-species/161/'}, {'name': 'hoothoot', 'url': 'https://pokeapi.co/api/v2/pokemon-species/163/'}, {'name': 'ledyba', 'url': 'https://pokeapi.co/api/v2/pokemon-species/165/'}, {'name': 'spinarak', 'url': 'https://pokeapi.co/api/v2/pokemon-species/167/'}, {'name': 'chinchou', 'url': 'https://pokeapi.co/api/v2/pokemon-species/170/'}, {'name': 'pichu', 'url': 'https://pokeapi.co/api/v2/pokemon-species/172/'}, {'name': 'cleffa', 'url': 'https://pokeapi.co/api/v2/pokemon-species/173/'}, {'name': 'igglybuff', 'url': 'https://pokeapi.co/api/v2/pokemon-species/174/'}, {'name': 'togepi', 'url': 'https://pokeapi.co/api/v2/pokemon-species/175/'}, {'name': 'natu', 'url': 'https://pokeapi.co/api/v2/pokemon-species/177/'}, {'name': 'mareep', 'url': 'https://pokeapi.co/api/v2/pokemon-species/179/'}, {'name': 'hoppip', 'url': 'https://pokeapi.co/api/v2/pokemon-species/187/'}, {'name': 'aipom', 'url': 'https://pokeapi.co/api/v2/pokemon-species/190/'}, {'name': 'sunkern', 'url': 'https://pokeapi.co/api/v2/pokemon-species/191/'}, {'name': 'yanma', 'url': 'https://pokeapi.co/api/v2/pokemon-species/193/'}, {'name': 'wooper', 'url': 'https://pokeapi.co/api/v2/pokemon-species/194/'}, {'name': 'murkrow', 'url': 'https://pokeapi.co/api/v2/pokemon-species/198/'}, {'name': 'misdreavus', 'url': 'https://pokeapi.co/api/v2/pokemon-species/200/'}, {'name': 'unown', 'url': 'https://pokeapi.co/api/v2/pokemon-species/201/'}, {'name': 'girafarig', 'url': 'https://pokeapi.co/api/v2/pokemon-species/203/'}, {'name': 'pineco', 'url': 'https://pokeapi.co/api/v2/pokemon-species/204/'}, {'name': 'dunsparce', 'url': 'https://pokeapi.co/api/v2/pokemon-species/206/'}, {'name': 'gligar', 'url': 'https://pokeapi.co/api/v2/pokemon-species/207/'}, {'name': 'snubbull', 'url': 'https://pokeapi.co/api/v2/pokemon-species/209/'}, {'name': 'qwilfish', 'url': 'https://pokeapi.co/api/v2/pokemon-species/211/'}, {'name': 'shuckle', 'url': 'https://pokeapi.co/api/v2/pokemon-species/213/'}, {'name': 'heracross', 'url': 'https://pokeapi.co/api/v2/pokemon-species/214/'}, {'name': 'sneasel', 'url': 'https://pokeapi.co/api/v2/pokemon-species/215/'}, {'name': 'teddiursa', 'url': 'https://pokeapi.co/api/v2/pokemon-species/216/'}, {'name': 'slugma', 'url': 'https://pokeapi.co/api/v2/pokemon-species/218/'}, {'name': 'swinub', 'url': 'https://pokeapi.co/api/v2/pokemon-species/220/'}, {'name': 'corsola', 'url': 'https://pokeapi.co/api/v2/pokemon-species/222/'}, {'name': 'remoraid', 'url': 'https://pokeapi.co/api/v2/pokemon-species/223/'}, {'name': 'delibird', 'url': 'https://pokeapi.co/api/v2/pokemon-species/225/'}, {'name': 'meganium', 'url': 'https://pokeapi.co/api/v2/pokemon-species/154/'}, {'name': 'quilava', 'url': 'https://pokeapi.co/api/v2/pokemon-species/156/'}, {'name': 'typhlosion', 'url': 'https://pokeapi.co/api/v2/pokemon-species/157/'}, {'name': 'croconaw', 'url': 'https://pokeapi.co/api/v2/pokemon-species/159/'}, {'name': 'feraligatr', 'url': 'https://pokeapi.co/api/v2/pokemon-species/160/'}, {'name': 'furret', 'url': 'https://pokeapi.co/api/v2/pokemon-species/162/'}, {'name': 'noctowl', 'url': 'https://pokeapi.co/api/v2/pokemon-species/164/'}, {'name': 'ledian', 'url': 'https://pokeapi.co/api/v2/pokemon-species/166/'}, {'name': 'ariados', 'url': 'https://pokeapi.co/api/v2/pokemon-species/168/'}, {'name': 'crobat', 'url': 'https://pokeapi.co/api/v2/pokemon-species/169/'}, {'name': 'lanturn', 'url': 'https://pokeapi.co/api/v2/pokemon-species/171/'}, {'name': 'togetic', 'url': 'https://pokeapi.co/api/v2/pokemon-species/176/'}, {'name': 'xatu', 'url': 'https://pokeapi.co/api/v2/pokemon-species/178/'}, {'name': 'flaaffy', 'url': 'https://pokeapi.co/api/v2/pokemon-species/180/'}, {'name': 'ampharos', 'url': 'https://pokeapi.co/api/v2/pokemon-species/181/'}, {'name': 'bellossom', 'url': 'https://pokeapi.co/api/v2/pokemon-species/182/'}, {'name': 'marill', 'url': 'https://pokeapi.co/api/v2/pokemon-species/183/'}, {'name': 'azumarill', 'url': 'https://pokeapi.co/api/v2/pokemon-species/184/'}, {'name': 'sudowoodo', 'url': 'https://pokeapi.co/api/v2/pokemon-species/185/'}, {'name': 'politoed', 'url': 'https://pokeapi.co/api/v2/pokemon-species/186/'}, {'name': 'skiploom', 'url': 'https://pokeapi.co/api/v2/pokemon-species/188/'}, {'name': 'jumpluff', 'url': 'https://pokeapi.co/api/v2/pokemon-species/189/'}, {'name': 'sunflora', 'url': 'https://pokeapi.co/api/v2/pokemon-species/192/'}, {'name': 'quagsire', 'url': 'https://pokeapi.co/api/v2/pokemon-species/195/'}, {'name': 'espeon', 'url': 'https://pokeapi.co/api/v2/pokemon-species/196/'}, {'name': 'umbreon', 'url': 'https://pokeapi.co/api/v2/pokemon-species/197/'}, {'name': 'slowking', 'url': 'https://pokeapi.co/api/v2/pokemon-species/199/'}, {'name': 'wobbuffet', 'url': 'https://pokeapi.co/api/v2/pokemon-species/202/'}, {'name': 'forretress', 'url': 'https://pokeapi.co/api/v2/pokemon-species/205/'}, {'name': 'steelix', 'url': 'https://pokeapi.co/api/v2/pokemon-species/208/'}, {'name': 'granbull', 'url': 'https://pokeapi.co/api/v2/pokemon-species/210/'}, {'name': 'scizor', 'url': 'https://pokeapi.co/api/v2/pokemon-species/212/'}, {'name': 'ursaring', 'url': 'https://pokeapi.co/api/v2/pokemon-species/217/'}, {'name': 'magcargo', 'url': 'https://pokeapi.co/api/v2/pokemon-species/219/'}, {'name': 'piloswine', 'url': 'https://pokeapi.co/api/v2/pokemon-species/221/'}, {'name': 'octillery', 'url': 'https://pokeapi.co/api/v2/pokemon-species/224/'}, {'name': 'skarmory', 'url': 'https://pokeapi.co/api/v2/pokemon-species/227/'}, {'name': 'houndour', 'url': 'https://pokeapi.co/api/v2/pokemon-species/228/'}, {'name': 'phanpy', 'url': 'https://pokeapi.co/api/v2/pokemon-species/231/'}, {'name': 'stantler', 'url': 'https://pokeapi.co/api/v2/pokemon-species/234/'}, {'name': 'smeargle', 'url': 'https://pokeapi.co/api/v2/pokemon-species/235/'}, {'name': 'tyrogue', 'url': 'https://pokeapi.co/api/v2/pokemon-species/236/'}, {'name': 'smoochum', 'url': 'https://pokeapi.co/api/v2/pokemon-species/238/'}, {'name': 'elekid', 'url': 'https://pokeapi.co/api/v2/pokemon-species/239/'}, {'name': 'magby', 'url': 'https://pokeapi.co/api/v2/pokemon-species/240/'}, {'name': 'miltank', 'url': 'https://pokeapi.co/api/v2/pokemon-species/241/'}, {'name': 'raikou', 'url': 'https://pokeapi.co/api/v2/pokemon-species/243/'}, {'name': 'entei', 'url': 'https://pokeapi.co/api/v2/pokemon-species/244/'}, {'name': 'suicune', 'url': 'https://pokeapi.co/api/v2/pokemon-species/245/'}, {'name': 'larvitar', 'url': 'https://pokeapi.co/api/v2/pokemon-species/246/'}, {'name': 'lugia', 'url': 'https://pokeapi.co/api/v2/pokemon-species/249/'}, {'name': 'ho-oh', 'url': 'https://pokeapi.co/api/v2/pokemon-species/250/'}, {'name': 'celebi', 'url': 'https://pokeapi.co/api/v2/pokemon-species/251/'}, {'name': 'houndoom', 'url': 'https://pokeapi.co/api/v2/pokemon-species/229/'}, {'name': 'kingdra', 'url': 'https://pokeapi.co/api/v2/pokemon-species/230/'}, {'name': 'donphan', 'url': 'https://pokeapi.co/api/v2/pokemon-species/232/'}, {'name': 'porygon2', 'url': 'https://pokeapi.co/api/v2/pokemon-species/233/'}, {'name': 'hitmontop', 'url': 'https://pokeapi.co/api/v2/pokemon-species/237/'}, {'name': 'blissey', 'url': 'https://pokeapi.co/api/v2/pokemon-species/242/'}, {'name': 'pupitar', 'url': 'https://pokeapi.co/api/v2/pokemon-species/247/'}, {'name': 'tyranitar', 'url': 'https://pokeapi.co/api/v2/pokemon-species/248/'}, {'name': 'bayleef', 'url': 'https://pokeapi.co/api/v2/pokemon-species/153/'}, {'name': 'mantine', 'url': 'https://pokeapi.co/api/v2/pokemon-species/226/'}]\n"
     ]
    },
    {
     "data": {
      "text/plain": [
       "100"
      ]
     },
     "execution_count": 48,
     "metadata": {},
     "output_type": "execute_result"
    }
   ],
   "source": [
    "# Count how many new pokemon they added with generation 2 (151 in gen 1)\n",
    "print(data['pokemon_species'])\n",
    "len(data['pokemon_species'])"
   ]
  }
 ],
 "metadata": {
  "kernelspec": {
   "display_name": "Python 3",
   "language": "python",
   "name": "python3"
  },
  "language_info": {
   "codemirror_mode": {
    "name": "ipython",
    "version": 3
   },
   "file_extension": ".py",
   "mimetype": "text/x-python",
   "name": "python",
   "nbconvert_exporter": "python",
   "pygments_lexer": "ipython3",
   "version": "3.9.7"
  }
 },
 "nbformat": 4,
 "nbformat_minor": 5
}
