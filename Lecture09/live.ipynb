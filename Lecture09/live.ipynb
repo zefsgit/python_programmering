{
 "cells": [
  {
   "cell_type": "markdown",
   "metadata": {},
   "source": [
    "### Object oriented programming"
   ]
  },
  {
   "cell_type": "markdown",
   "metadata": {},
   "source": [
    "### Class, object, class variable"
   ]
  },
  {
   "cell_type": "code",
   "execution_count": 28,
   "metadata": {},
   "outputs": [],
   "source": [
    "class Person: # create class with name Person\n",
    "    first_name = \"foo\" #class variable"
   ]
  },
  {
   "cell_type": "code",
   "execution_count": 29,
   "metadata": {},
   "outputs": [
    {
     "name": "stdout",
     "output_type": "stream",
     "text": [
      "foo\n"
     ]
    }
   ],
   "source": [
    "foo = Person() # create a Person object and assign it to the foo variable\n",
    "bar = Person()\n",
    "print(foo.first_name)"
   ]
  },
  {
   "cell_type": "code",
   "execution_count": 30,
   "metadata": {},
   "outputs": [
    {
     "name": "stdout",
     "output_type": "stream",
     "text": [
      "Bar\n"
     ]
    }
   ],
   "source": [
    "bar.first_name = \"Bar\" #changing first_name of this Person instance\n",
    "print(bar.first_name)"
   ]
  },
  {
   "cell_type": "markdown",
   "metadata": {},
   "source": [
    "### Self, instance variables, constructors, methods"
   ]
  },
  {
   "cell_type": "code",
   "execution_count": 31,
   "metadata": {},
   "outputs": [],
   "source": [
    "class User:\n",
    "    def __init__(self, id, name = \"\"): # constructor taking two parameters\n",
    "        self.id = id # instance variable\n",
    "        self.name = name # instance variable\n",
    "        self.test = \"Test\" # instance variable\n",
    "\n",
    "\n",
    "    def change_name(self, new_name): # class methods that take one parameter\n",
    "        self.name = new_name # access instance variables using self"
   ]
  },
  {
   "cell_type": "code",
   "execution_count": 32,
   "metadata": {},
   "outputs": [
    {
     "name": "stdout",
     "output_type": "stream",
     "text": [
      "1 Foo Test\n",
      "2  Test\n"
     ]
    }
   ],
   "source": [
    "foo = User(1, \"Foo\")\n",
    "bar = User(2) # name is optional\n",
    "print(foo.id, foo.name, foo.test)\n",
    "print(bar.id, bar.name, bar.test )"
   ]
  },
  {
   "cell_type": "code",
   "execution_count": 33,
   "metadata": {},
   "outputs": [
    {
     "name": "stdout",
     "output_type": "stream",
     "text": [
      "Bar\n"
     ]
    }
   ],
   "source": [
    "bar.change_name(\"Bar\") # call method change_name for bar instance of User\n",
    "print(bar.name)"
   ]
  },
  {
   "cell_type": "markdown",
   "metadata": {},
   "source": [
    "##clasees in python"
   ]
  },
  {
   "cell_type": "code",
   "execution_count": 41,
   "metadata": {},
   "outputs": [],
   "source": [
    "class Thing():\n",
    "    def __init__(self, name):\n",
    "        self.name = name\n",
    "        \n",
    "    def say_name(self):\n",
    "        text = self._helper_func()\n",
    "        print(text)\n",
    "        \n",
    "    def _helper_func(self):\n",
    "        return f'My name is {self.name}'"
   ]
  },
  {
   "cell_type": "code",
   "execution_count": 42,
   "metadata": {},
   "outputs": [],
   "source": [
    "thing1 = Thing(name='Eva')\n",
    "thing2 = Thing('Andrea')\n"
   ]
  },
  {
   "cell_type": "code",
   "execution_count": 43,
   "metadata": {},
   "outputs": [
    {
     "name": "stdout",
     "output_type": "stream",
     "text": [
      "My name is Eva\n"
     ]
    }
   ],
   "source": [
    "thing1.say_name()"
   ]
  },
  {
   "cell_type": "markdown",
   "metadata": {},
   "source": [
    "## Writing a class Animal\n"
   ]
  },
  {
   "cell_type": "code",
   "execution_count": 45,
   "metadata": {},
   "outputs": [],
   "source": [
    "class Animal():\n",
    "    def __init__(self, species:str):\n",
    "        self.species = species\n",
    "        self.energy = 5\n",
    "\n",
    "    def make_noise(self):\n",
    "        self.energy -= 1 #Energy = energy - 1\n",
    "        print('*animal is making noise*')\n",
    "\n",
    "    def feed(self):\n",
    "        self.energy += 3"
   ]
  },
  {
   "cell_type": "code",
   "execution_count": 48,
   "metadata": {},
   "outputs": [
    {
     "name": "stdout",
     "output_type": "stream",
     "text": [
      "*animal is making noise*\n",
      "Energy: 4\n",
      "Energy: 4\n"
     ]
    }
   ],
   "source": [
    "animal = Animal('Wolf')\n",
    "animal.make_noise()\n",
    "print('Energy:', animal.energy)\n",
    "animal.feed\n",
    "print('Energy:', animal.energy)"
   ]
  },
  {
   "cell_type": "markdown",
   "metadata": {},
   "source": [
    "## Write a subclass dog "
   ]
  },
  {
   "cell_type": "code",
   "execution_count": 49,
   "metadata": {},
   "outputs": [],
   "source": [
    "class Dog(Animal):\n",
    "    def __init__(self):\n",
    "        super().__init__(species='dog')\n",
    "\n",
    "    def make_noise(self):\n",
    "        self.energy -= 1\n",
    "        print('Woof woof')\n",
    "\n",
    "    def play(self):\n",
    "        print('The dog is playing around')\n",
    "        self.energy -= 2"
   ]
  },
  {
   "cell_type": "code",
   "execution_count": 50,
   "metadata": {},
   "outputs": [
    {
     "name": "stdout",
     "output_type": "stream",
     "text": [
      "Woof woof\n",
      "Energy 4\n",
      "The dog is playing around\n",
      "Energy 2\n"
     ]
    }
   ],
   "source": [
    "dog = Dog()\n",
    "dog.make_noise()\n",
    "print('Energy', dog.energy)\n",
    "dog.play()\n",
    "print('Energy', dog.energy)"
   ]
  }
 ],
 "metadata": {
  "interpreter": {
   "hash": "b17c90e1d9abd36a1e99ffc360236cdbb34253cc08b287a149ae0f9f1e543930"
  },
  "kernelspec": {
   "display_name": "Python 3.9.7 64-bit ('env': conda)",
   "language": "python",
   "name": "python3"
  },
  "language_info": {
   "codemirror_mode": {
    "name": "ipython",
    "version": 3
   },
   "file_extension": ".py",
   "mimetype": "text/x-python",
   "name": "python",
   "nbconvert_exporter": "python",
   "pygments_lexer": "ipython3",
   "version": "3.9.7"
  },
  "orig_nbformat": 4
 },
 "nbformat": 4,
 "nbformat_minor": 2
}
