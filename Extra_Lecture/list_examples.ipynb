{
 "cells": [
  {
   "cell_type": "code",
   "execution_count": 1,
   "source": [
    "with open(\"simple_line.txt\", \"r\") as f:\r\n",
    "    content = f.readlines()\r\n",
    "print(content)"
   ],
   "outputs": [
    {
     "output_type": "stream",
     "name": "stdout",
     "text": [
      "['1\\n', '2\\n', '3\\n', '2\\n', '5\\n', '6\\n', '4\\n', '8\\n', '9\\n', '10']\n"
     ]
    }
   ],
   "metadata": {}
  },
  {
   "cell_type": "code",
   "execution_count": 11,
   "source": [
    "contents_float = []\r\n",
    "for entry in content:\r\n",
    "    if float(entry) > 3:\r\n",
    "        contents_float.append(float(entry))\r\n",
    "print(contents_float)"
   ],
   "outputs": [
    {
     "output_type": "stream",
     "name": "stdout",
     "text": [
      "[5.0, 6.0, 4.0, 8.0, 9.0, 10.0]\n"
     ]
    }
   ],
   "metadata": {}
  },
  {
   "cell_type": "code",
   "execution_count": 7,
   "source": [
    "contents_float = [float(entry) for entry in content if float(entry) > 3]"
   ],
   "outputs": [],
   "metadata": {}
  },
  {
   "cell_type": "code",
   "execution_count": 8,
   "source": [
    "print(contents_float)"
   ],
   "outputs": [
    {
     "output_type": "stream",
     "name": "stdout",
     "text": [
      "['1\\n', '2\\n', '3\\n', '2\\n', '5\\n', '6\\n', '4\\n', '8\\n', '9\\n', '10']\n"
     ]
    }
   ],
   "metadata": {}
  },
  {
   "cell_type": "code",
   "execution_count": 15,
   "source": [
    "tuples_list = [(1,2), (3,4), (3,5)]\r\n",
    "for _, tup_2 in tuples_list:\r\n",
    "    print(tup_2)"
   ],
   "outputs": [
    {
     "output_type": "stream",
     "name": "stdout",
     "text": [
      "2\n",
      "4\n",
      "5\n"
     ]
    }
   ],
   "metadata": {}
  },
  {
   "cell_type": "code",
   "execution_count": 17,
   "source": [
    "fruits = [\"apple\", \"banana\", \"pear\", \"dragon fruit\", \"orange\", \"tomato\"]\r\n",
    "\r\n",
    "for i, fruit in enumerate(fruits):\r\n",
    "    print(fruit, i)"
   ],
   "outputs": [
    {
     "output_type": "stream",
     "name": "stdout",
     "text": [
      "apple 0\n",
      "banana 1\n",
      "pear 2\n",
      "dragon fruit 3\n",
      "orange 4\n",
      "tomato 5\n"
     ]
    }
   ],
   "metadata": {}
  },
  {
   "cell_type": "code",
   "execution_count": 18,
   "source": [
    "for i in range(len(fruits)):\r\n",
    "    fruit = fruits[i]\r\n",
    "    print(fruit, i)"
   ],
   "outputs": [
    {
     "output_type": "stream",
     "name": "stdout",
     "text": [
      "apple 0\n",
      "banana 1\n",
      "pear 2\n",
      "dragon fruit 3\n",
      "orange 4\n",
      "tomato 5\n"
     ]
    }
   ],
   "metadata": {}
  },
  {
   "cell_type": "code",
   "execution_count": 19,
   "source": [
    "def a():\r\n",
    "    return 3\r\n",
    "\r\n",
    "a = lambda: 3\r\n",
    "\r\n",
    "def add(x, y):\r\n",
    "    return x + y\r\n",
    "\r\n",
    "b = lambda x, y: x + y"
   ],
   "outputs": [],
   "metadata": {}
  },
  {
   "cell_type": "code",
   "execution_count": 32,
   "source": [
    "list_of_tuples = [(\"hej\", 2), (\"zklart\", 1), (\"syfte\", 5)]\r\n",
    "\r\n",
    "list_of_tuples.sort(key=lambda x: x[0][1])"
   ],
   "outputs": [],
   "metadata": {}
  },
  {
   "cell_type": "code",
   "execution_count": 33,
   "source": [
    "print(list_of_tuples)"
   ],
   "outputs": [
    {
     "output_type": "stream",
     "name": "stdout",
     "text": [
      "[('hej', 2), ('zklart', 1), ('syfte', 5)]\n"
     ]
    }
   ],
   "metadata": {}
  },
  {
   "cell_type": "code",
   "execution_count": null,
   "source": [
    "def get_second_value(x):\r\n",
    "    return x[1]"
   ],
   "outputs": [],
   "metadata": {}
  },
  {
   "cell_type": "code",
   "execution_count": 35,
   "source": [
    "name = \"isabellagagner\"\r\n",
    "name[4:7]"
   ],
   "outputs": [
    {
     "output_type": "execute_result",
     "data": {
      "text/plain": [
       "'ell'"
      ]
     },
     "metadata": {},
     "execution_count": 35
    }
   ],
   "metadata": {}
  },
  {
   "cell_type": "code",
   "execution_count": null,
   "source": [],
   "outputs": [],
   "metadata": {}
  }
 ],
 "metadata": {
  "orig_nbformat": 4,
  "language_info": {
   "name": "python",
   "version": "3.8.10",
   "mimetype": "text/x-python",
   "codemirror_mode": {
    "name": "ipython",
    "version": 3
   },
   "pygments_lexer": "ipython3",
   "nbconvert_exporter": "python",
   "file_extension": ".py"
  },
  "kernelspec": {
   "name": "python3",
   "display_name": "Python 3.8.10 64-bit ('ec-python-course': conda)"
  },
  "interpreter": {
   "hash": "49725ab178c4c102e1441d76205f429a43d78f45cae77ce22318dfb9d7e7bd6b"
  }
 },
 "nbformat": 4,
 "nbformat_minor": 2
}